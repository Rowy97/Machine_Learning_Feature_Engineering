{
 "cells": [
  {
   "cell_type": "markdown",
   "metadata": {
    "id": "UwU-lXZEFV-4"
   },
   "source": [
    "# Homework 1: Supervised Learning 1: Lab Questions\n",
    "### 25 points total\n",
    "### Version 1.0\n",
    "\n"
   ]
  },
  {
   "cell_type": "markdown",
   "metadata": {
    "id": "hnRCMdPrSBw8"
   },
   "source": [
    "Wencheng Zhong (wzhong10), Jiarui Wang (jwang486)"
   ]
  },
  {
   "cell_type": "markdown",
   "metadata": {
    "id": "yS_0juBfFV-5"
   },
   "source": [
    "**Instructions:**\n",
    "This notebook is intended to guide you through creating and exploring your dataset. Please answer all questions in this notebook (you will see <font color='blue'>TODO</font> annotations for where to include your answers). At the beginning of each part, we will bullet the expected deliverables for you to complete. All questions can be answered in 1-4 sentences, unless otherwise noted."
   ]
  },
  {
   "cell_type": "markdown",
   "metadata": {
    "id": "pKB_9fxJFV-5"
   },
   "source": [
    "## Part 1: Defining the Problem and Choosing a Dataset\n",
    "Things to do in this part:\n",
    "1. Answer questions 1-4\n",
    "2. Identify data sources to use in your dataset\n",
    "3. List data sources used in question 5"
   ]
  },
  {
   "cell_type": "markdown",
   "metadata": {
    "id": "v-H02HwkFV-6"
   },
   "source": [
    "Your first task is to choose a problem you're interested in. You are free to choose from any domain, but it should be within the **supervised learning** paradigm. In other words, a supervised classifier should be able to generalize from a training sample of $(X,y)$ pairs to predict outcomes on unseen data $x$. We want to use machine learning, so your problem should be difficult to solve using traditional programming algorithms. \n",
    "\n",
    "For simplicity, you will construct data for a binary or multiclass classification problem, where the possible labels are given by a fixed set of choices, or for a regression task (real-valued labels). Do not build a dataset for a structured prediction task.\n"
   ]
  },
  {
   "cell_type": "markdown",
   "metadata": {
    "id": "LgcLquEUFV-7"
   },
   "source": [
    "#### 1) In one or two sentences, what are you interested in predicting given what data? This is your supervised learning problem.\n",
    "\n",
    "You should answer this question before creating your dataset, as it will provide an indication of what to search for."
   ]
  },
  {
   "cell_type": "markdown",
   "metadata": {
    "id": "SBUkGwoQFV-7"
   },
   "source": [
    "<font color='blue'>\n",
    "    I'm interested in how dangerous/how severe we will get if we have a car accident in Maryland, given  previous crashes data within Maryland state. \n",
    "</font>"
   ]
  },
  {
   "cell_type": "markdown",
   "metadata": {
    "id": "uM4QYQHuFV-8"
   },
   "source": [
    "#### 2) Is this a well-defined problem? Why or why not? What ambiguities (if any) exist in your problem?\n",
    "\n",
    "Think about what challenges you solved by formulating the problem in this way."
   ]
  },
  {
   "cell_type": "markdown",
   "metadata": {
    "id": "bVz7YeaIFV-9"
   },
   "source": [
    "<font color='blue'>\n",
    "    Yes. It is well-defined. Our goal is to get some insight into the story behind those crashes data and therefore learn some important experience or recognize some significant patterns to enhance our future learning in this area. We will use some mathemtical models, given our dataset, to train our model and finally draw a consluion based on our training results. The whole process is clear and well-defined.\n",
    "</font>"
   ]
  },
  {
   "cell_type": "markdown",
   "metadata": {
    "id": "9jT9VG9nFV-9"
   },
   "source": [
    "#### 3) Does an easy (non-ML) solution exist for the problem? What are existing ways this problem, or a similar problem, is addressed (regardless of difficulty)?"
   ]
  },
  {
   "cell_type": "markdown",
   "metadata": {
    "id": "hQEu9DtuFV--"
   },
   "source": [
    "<font color='blue'>\n",
    "    No, there is no easy solution for this problem. Similar problem could be the survey(quote) that used by car insurance company to quote your car insurance price. \n",
    "</font>"
   ]
  },
  {
   "cell_type": "markdown",
   "metadata": {
    "id": "pzvM5R8eO6G0"
   },
   "source": [
    "#### 4) Why is using machine learning for this problem justified?"
   ]
  },
  {
   "cell_type": "markdown",
   "metadata": {
    "id": "DO7DUW_-PCVw"
   },
   "source": [
    "<font color='blue'>\n",
    "    Because the dataset might be too large for human brain to analyze(In raw dat there are over 1 million sample points); also we want a clear evaluation procedure and quantitative reasoning for our final decision, which is more convincing than non-ML method. \n",
    "</font>"
   ]
  },
  {
   "cell_type": "markdown",
   "metadata": {
    "id": "3i70yHkXFV-_"
   },
   "source": [
    "Now, we'll turn to data we can use to actually solve your problem. You may wish to use Section 3.1 of the assignment sheet for inspiration. **Remember, you are expected to *create* a dataset, not use an existing one**.\n",
    "\n",
    "#### 5) List the sources for all data you used when creating your dataset along with (very briefly) what you obtained from it.\n",
    "\n",
    "For example: <br /> Obtained features a,b,c from http://www.domain1.com/example_data. <br /> Obtained labels from http://www.domain2.com/example_labels."
   ]
  },
  {
   "cell_type": "markdown",
   "metadata": {
    "id": "kWYNsEn3FV_A"
   },
   "source": [
    "<font color='blue'>\n",
    "    Obtained features WEATHER_CODE,  AIRBAG_DEPLOYED,  SAF_EQUIP_CODE,  COLLISION_TYPE_CODE from https://opendata.maryland.gov/Public-Safety/Maryland-Statewide-Vehicle-Crashes/65du-s3qu and https://opendata.maryland.gov/Public-Safety/Maryland-Statewide-Vehicle-Crashes-Person-Details-/py4c-dicf <br />\n",
    "    Obtained label INJ_SEVER_CODE from https://opendata.maryland.gov/Public-Safety/Maryland-Statewide-Vehicle-Crashes-Person-Details-/py4c-dicf\n",
    "\n",
    "    It is the car accident data in Maryland state from January 2015 through September 2021.\n",
    "</font>"
   ]
  },
  {
   "cell_type": "markdown",
   "metadata": {
    "id": "xudIDiZ0FV_A"
   },
   "source": [
    "## Part 2: What does the data look like?\n",
    "Things to do in this part:\n",
    "1. Answer questions 6-11\n",
    "2. Print a few examples of raw data (if possible) otherwise explain what the raw data looks like.\n",
    "3. Create at least 3 numerical features from your raw data\n",
    "4. Create dataset such that $X\\in\\mathbb{R}^{m\\times n}$ and $y\\in\\mathbb{R}^m$ are both numpy arrays\n",
    "5. Create 1 visual that helps you understand your data."
   ]
  },
  {
   "cell_type": "markdown",
   "metadata": {
    "id": "-upcCn1VFV_B"
   },
   "source": [
    "Let's take a look at the various data you've collected. First let's read in the raw data. You may read the data into whatever is most convenient (e.g. a list, a numpy array, a Pandas dataframe, etc.). **At this point your data will be in whatever format you downloaded them in**. For example, if you're working with text data, your data might be strings of words or collection of text documents. If you are working with image data, you might have a collection of images.\n",
    "<br /><br />\n",
    "For those of you new to working with data in Python, we have included examples of how to import the raw data. These are merely suggestions if they work for you. You don't have to use them."
   ]
  },
  {
   "cell_type": "code",
   "execution_count": 14,
   "metadata": {
    "id": "JoUhpBYFFV_B"
   },
   "outputs": [],
   "source": [
    "# # Suppose you have a directory called documents that contains Wikipedia articles, you can process these as follows:\n",
    "# # Cleaning the data (e.g. removing stop words) is not required.\n",
    "# import os\n",
    "# from collections import defaultdict\n",
    "\n",
    "# files = [f for f in os.listdir('documents') if os.path.isfile(os.path.join('documents', f))\n",
    "# X = defaultdict(list)\n",
    "# for i, file in enumerate(files[:len(files)], start=1):\n",
    "#     with open(os.path.join('documents', file)) as f:\n",
    "#         X['doc_' + str(i)] = f.readlines()\n",
    "# # X is a dictinary that maps doc_id to text.\n",
    "\n",
    "# # Suppose you have labels that are stored in a CSV file:\n",
    "# import pandas as pd\n",
    "\n",
    "# y = pd.read_csv('labels.csv')\n",
    "# # y is a Pandas dataframe that contains each label.\n",
    "\n",
    "# # Suppose you have a directory called images that contains pictures of cats, you can process them as follows:\n",
    "# from PIL import Image\n",
    "\n",
    "# images = [f for f in os.listdir('images') if os.path.isfile(os.path.join('images', f))\n",
    "# X = [Image.open(image) for image in images]\n",
    "# # X is a list of PIL Image objects\n",
    "\n",
    "#######################################################\n",
    "# TODO: Read in your raw data\n",
    "import pandas as pd\n",
    "\n",
    "crash = pd.read_csv('crash.csv')\n",
    "crash2 = pd.read_csv('crash.csv')\n",
    "X_raw = pd.concat([crash,crash2],axis=1)\n",
    "y = pd.read_csv('Y.csv')\n",
    "\n",
    "#######################################################"
   ]
  },
  {
   "cell_type": "markdown",
   "metadata": {
    "id": "OTyyXMhtFV_F"
   },
   "source": [
    "Now, let's print a few examples. Depending on your data format, you may have to write this yourself. We have provided some examples below."
   ]
  },
  {
   "cell_type": "code",
   "execution_count": 15,
   "metadata": {
    "id": "EygmSPFnFV_F"
   },
   "outputs": [
    {
     "name": "stdout",
     "output_type": "stream",
     "text": [
      "X:    YEAR QUARTER LIGHT_DESC  LIGHT_CODE     COUNTY_DESC  COUNTY_NO  MUNI_DESC  \\\n",
      "0  2020      Q2   Daylight        1.00       Baltimore          3        NaN   \n",
      "1  2020      Q2        NaN        6.02  Baltimore City         24        NaN   \n",
      "2  2020      Q2   Daylight        1.00      Montgomery         15        NaN   \n",
      "3  2017      Q2   Daylight        1.00  Baltimore City         24        NaN   \n",
      "4  2020      Q2   Daylight        1.00           Cecil          7        NaN   \n",
      "\n",
      "   MUNI_CODE     JUNCTION_DESC  JUNCTION_CODE  ... FEET_MILES_FLAG_DESC  \\\n",
      "0        NaN               NaN            NaN  ...                  NaN   \n",
      "1        NaN  Non Intersection            1.0  ...                Miles   \n",
      "2        NaN               NaN            NaN  ...                  NaN   \n",
      "3        NaN               NaN            NaN  ...                  NaN   \n",
      "4        NaN               NaN            NaN  ...                  NaN   \n",
      "\n",
      "   FEET_MILES_FLAG DISTANCE_DIR_FLAG  REFERENCE_NO REFERENCE_TYPE_CODE  \\\n",
      "0              NaN               NaN           NaN                 NaN   \n",
      "1                M                 N           NaN                 NaN   \n",
      "2              NaN               NaN           NaN                 NaN   \n",
      "3              NaN               NaN           NaN                 NaN   \n",
      "4              NaN               NaN           NaN                 NaN   \n",
      "\n",
      "   REFERENCE_SUFFIX REFERENCE_ROAD_NAME   LATITUDE  LONGITUDE  \\\n",
      "0               NaN                 NaN  39.277263 -76.503693   \n",
      "1               NaN           NORTH AVE  39.311025 -76.616429   \n",
      "2               NaN                 NaN  39.140680 -77.193413   \n",
      "3               NaN                 NaN  39.282928 -76.635215   \n",
      "4               NaN                 NaN  39.611028 -75.951314   \n",
      "\n",
      "                                     LOCATION  \n",
      "0             POINT (-76.5036932 39.27726285)  \n",
      "1    POINT (-76.616429453205 39.311024794431)  \n",
      "2    POINT (-77.193412729561 39.140680249069)  \n",
      "3  POINT (-76.6352150952347 39.2829284750108)  \n",
      "4          POINT (-75.951314 39.611027833333)  \n",
      "\n",
      "[5 rows x 112 columns]\n",
      "y:    INJ_SEVER_CODE\n",
      "0               1\n",
      "1               2\n",
      "2               3\n",
      "3               1\n",
      "4               1\n"
     ]
    }
   ],
   "source": [
    "# # If your data is stored in an array:\n",
    "# print('X:', X[:5])\n",
    "# print('y:', y[:5])\n",
    "\n",
    "# # If your data consists of image files:\n",
    "# from PIL import Image\n",
    "\n",
    "# for i in range(5):\n",
    "#     print('image:')\n",
    "#     img = X[i]\n",
    "#     img.show()\n",
    "#     print('label:', y[i])\n",
    "\n",
    "#######################################################\n",
    "# TODO: print out what a few examples of your raw data.\n",
    "print('X:', X_raw[:5])\n",
    "print('y:', y[:5])\n",
    "#######################################################"
   ]
  },
  {
   "cell_type": "markdown",
   "metadata": {
    "id": "_O9OGkeHOW0V"
   },
   "source": [
    "#### (Optional) If your raw data format can't be displayed in a Jupyter notebook (e.g. video or audio files), you may skip the above step. You should still look at the raw data in whatever way possibly, but instead just describe what the raw data is that you look at."
   ]
  },
  {
   "cell_type": "markdown",
   "metadata": {
    "id": "WeRwNo2-O3XQ"
   },
   "source": [
    "<font color='blue'>\n",
    "    TODO: replace this cell with your answer. Leave blank if not applicable.\n",
    "</font>"
   ]
  },
  {
   "cell_type": "markdown",
   "metadata": {
    "id": "6LrYreKhFV_I"
   },
   "source": [
    "#### 6) What information is contained in each example (row) in $X$? These are your raw data features."
   ]
  },
  {
   "cell_type": "markdown",
   "metadata": {
    "id": "Q9_MNK-1FV_I"
   },
   "source": [
    "<font color='blue'>\n",
    "    In each row, it contains information as following: <br />time-related information, such as what year and which quarter this accident happened, etc; <br />event information, such as what county did this accident happen, what type of collision it is, etc; <br />vehicle information: what brand of cars they are, what kind of safety equipment did they use, etc; <br />personal information: sex, age, etc. <br/> What is nice in this raw data is that they have their own code representing different event, such as they have a column named weather_desc, and another column next to it named weather_code, which gives different number to different description. \n",
    "    "
   ]
  },
  {
   "cell_type": "markdown",
   "metadata": {
    "id": "nnloVU9iFV_J"
   },
   "source": [
    "If your data is not numerical, this will be difficult for an algorithm to learn directly. So, now that you've seen what the raw data looks like, you will start extracting *numerical* features from the raw data.\n",
    "<br /><br />\n",
    "We obtain features through a process called **feature engineering**. Features may be derived from the existing raw data or may come from other data sources that can be associated with each example. This is a challenging task that often requires domain knowledge about the problem you are trying to solve. \n",
    "<br /><br />\n",
    "While very important in dataset creation, feature engineering is not the focus of this assignment. You will need some features for the other steps, but these can be very simple and don't need to rely on domain knowledge.\n",
    "<br /><br />\n",
    "**You will need to add at least 3 features to your dataset**. If your data is Wikipedia documents, possible features could be number of sentences, word count, the words that appear in the article, number of document revisions, number of contributing authors, number of references, etc. Notice that some of these features could be derived from the raw data (i.e. the words) while others may need to be downloaded separately (i.e. page metadata). If your data are cat images, your features could be focus measure (i.e. blurriness/sharpness) using OpenCV Variance of Laplacian, whether image is grayscale, number of pixels, the pixel color values, etc.\n",
    "<br /><br />\n",
    "You are free to obtain features in any way you like as long as you can justify why the features your propose should help solve the problem you've defined.\n",
    "<br /><br />\n",
    "We'll provide some examples of what we're looking for. We are not expecting anything fancy for this step."
   ]
  },
  {
   "cell_type": "code",
   "execution_count": 16,
   "metadata": {
    "id": "Qf0HOYw8FV_K"
   },
   "outputs": [
    {
     "name": "stdout",
     "output_type": "stream",
     "text": [
      "   WEATHER_CODE  AIRBAG_DEPLOYED  SAF_EQUIP_CODE  COLLISION_TYPE_CODE\n",
      "0          0.00                0             0.0                   88\n",
      "1          7.01                1            13.0                   88\n",
      "2          6.01                1            13.0                   88\n",
      "3         88.00                1            13.0                   17\n",
      "4          6.01                0            13.0                    3\n"
     ]
    }
   ],
   "source": [
    "# # If you're using text data stored in a dictionary (like example above):\n",
    "# # Suppose each document is a string that contains a period\n",
    "# # and are trying to predict end of sentences (EOS),\n",
    "# import re\n",
    "# import pandas as pd\n",
    "# from collections import defaultdict\n",
    "\n",
    "# # Convert X from doc_id -> text to doc_id -> {sentence, features}\n",
    "# X = {k:{'sentence': v, 'features': None} for k,v in X.items()}\n",
    "\n",
    "# # suppose you downloaded these external data: common abbreviations, titles (e.g. mr, ms, dr), month abbreviations (e.g. sept, oct)\n",
    "# abbrevs = pd.read_csv('common_abbrevs.csv')\n",
    "# titles = pd.read_csv('titles.csv')\n",
    "# months = pd.read_csv('month_abbrevs.csv')\n",
    "\n",
    "# # for the purpose of this example, assume all documents have len > 3\n",
    "# features = defaultdict(int)\n",
    "# for doc_id, doc in X.items():\n",
    "#     idx = re.find('.')\n",
    "#     one_before = doc['sentence'][idx - 1] if idx > 0 else None\n",
    "#     one_after = doc['sentence'][idx + 1] if idx < len(doc['sentence']) - 1 else None\n",
    "#     features['is_abbrev'] = 1 if one_before and one_before in abbrevs else 0\n",
    "#     features['is_title'] = 1 if one_before and one_before in titles else 0\n",
    "#     features['is_month'] = 1 if one_before and one_before in months else 0\n",
    "#     features['is_decimal'] = 1 if one_before and one_after in one_before.isdigit() and one_after.isdigit() else 0\n",
    "#     features['other_punc'] = 1 if any((p in '?!.') for c in doc['sentence'][idx:]) else 0\n",
    "#     features['period_loc'] = idx\n",
    "#     X[doc_id]['features'] = features\n",
    "# # In just a few lines of Python, we created 6 features!\n",
    "\n",
    "#######################################################\n",
    "# TODO: compute features for each example\n",
    "\n",
    "# Since the raw data is very big, contains over 1 million sample points, \n",
    "# which takes very long time to read in all raw data,\n",
    "# I preprocessed the raw data into 2000 instead 1 million \n",
    "# and generate the features I want into one csv file call \"X.csv\" \n",
    "# so that it can read in the data faster. \n",
    "X = pd.read_csv('X.csv')\n",
    "columns = X.columns\n",
    "print(X[:5])\n",
    "#######################################################"
   ]
  },
  {
   "cell_type": "markdown",
   "metadata": {
    "id": "0kvDukQY_MOT"
   },
   "source": [
    "#### 7) Describe the features in your dataset."
   ]
  },
  {
   "cell_type": "markdown",
   "metadata": {
    "id": "ccp6_xtTFV_J"
   },
   "source": [
    "<font color='blue'>\n",
    "    The features I selected are: <br/>\n",
    "    The first feature is WEATHER_CODE, which represents different weather situations when the car accident happened. For example, 0 represents non appicable, 3 represents raining. \n",
    "    <br/>The second feature is AIRBAG_DEPLOYED, which represents how many or whether the airbag deployed. \n",
    "    <br/>The third feature is SAF_EQUIP_CODE, which shows what safe equipment the car was using when car accident happened. For example, 1 represents none, 13 represents shoulder/lap belt. \n",
    "    <br/>The fourth feature is COLLISION_TYPE_CODE, which shows which type collision this car accident belong to. For example, code 7 represents \"Same Direction Sideswipe\" and code 11 represents \"Same Movement Angle\". \n",
    "</font>"
   ]
  },
  {
   "cell_type": "markdown",
   "metadata": {
    "id": "TpHvVRWLFV_N"
   },
   "source": [
    "Next, let's focus on what you're trying to predict. First, let's see what the potential outcomes look like."
   ]
  },
  {
   "cell_type": "code",
   "execution_count": 17,
   "metadata": {
    "id": "_sffSMwfFV_N"
   },
   "outputs": [
    {
     "data": {
      "text/plain": [
       "array([1, 2, 3, 4, 5])"
      ]
     },
     "execution_count": 17,
     "metadata": {},
     "output_type": "execute_result"
    }
   ],
   "source": [
    "import numpy as np\n",
    "\n",
    "np.unique(y)"
   ]
  },
  {
   "cell_type": "markdown",
   "metadata": {
    "id": "B4K9ymaUFV_Q"
   },
   "source": [
    "#### 8) Is your dataset suitable for a regression or classification task? Explain."
   ]
  },
  {
   "cell_type": "markdown",
   "metadata": {
    "id": "LGM97EwNFV_R"
   },
   "source": [
    "<font color='blue'>\n",
    "    It is suitable for a classification task. <br/>In our $y$, we have 5 labels(1,2,3,4,5), which represent how bad we will injury in a car accident. Number 1 represents 'no injury', number 2 represents 'Non-incapacitating injury', number 3 represents 'Possible incapacitating injury', number 4 represents 'incapacitating injury' and number 5 represents 'Fatal injury'. <br/>Using features and ML models, we can perform multiclasses classification on given features and predict injury severeness of person in a car accident, given information on the car's safety equipments, collision type and weather. What is more, we can gain experience from previous car accidents and learn about how to protect ourselves well from studying how different attributes influence the injury severeness.\n",
    "</font>"
   ]
  },
  {
   "cell_type": "markdown",
   "metadata": {},
   "source": []
  },
  {
   "cell_type": "markdown",
   "metadata": {
    "id": "ZftGGzDOFV_R"
   },
   "source": [
    "Now, we'll standardize our data as follows. The data matrix $X$ should be a numpy 2d array in $\\mathbb{R}^{m\\times n}$. The labels should be a numpy 1d array in $\\mathbb{R}^m$. $m$ is the number of examples and $n$ is the number of features. **You will be training your supervised classifer on the features, which might not include all (or any) of the raw data**. This is a decision you will make when creating your dataset.\n",
    "<br /><br />\n",
    "Note: this is the format we're looking for your data to be in when you submit your dataset (i.e. $X\\in\\mathbb{R}^{m\\times n}$ and $y\\in\\mathbb{R}^m$ and are both numpy arrays)."
   ]
  },
  {
   "cell_type": "code",
   "execution_count": 18,
   "metadata": {
    "id": "wr0fOeO4FV_S"
   },
   "outputs": [],
   "source": [
    "# # Now, using your numerical features from the previous step, you can construct the dataset.\n",
    "# # Depending on what your raw data was (i.e. if any field was numerical), you may include this in the final dataset\n",
    "# # or you may just use the features you created. \n",
    "\n",
    "# # Using the dictionary from above (doc_id -> {sentence, features}) the dataset can be constructed\n",
    "# import numpy as np\n",
    "\n",
    "# X = np.array([np.array(doc.features.values()) for doc in X.values()])\n",
    "# y = np.array(y) # assume y was a list of binary labels previously\n",
    "\n",
    "#######################################################\n",
    "# TODO: Convert X and y to numpy arrays with appropriate dimensions\n",
    "X = np.array(X)\n",
    "y = np.array(y)\n",
    "#######################################################"
   ]
  },
  {
   "cell_type": "markdown",
   "metadata": {
    "id": "otLeZuuXFV_V"
   },
   "source": [
    "If you have a classification dataset, let's look at class balance. This tells us how many examples we have for each label."
   ]
  },
  {
   "cell_type": "code",
   "execution_count": 19,
   "metadata": {
    "id": "mpg27X_XFV_V"
   },
   "outputs": [
    {
     "name": "stdout",
     "output_type": "stream",
     "text": [
      "1622 examples of class 1\n",
      "182 examples of class 2\n",
      "167 examples of class 3\n",
      "24 examples of class 4\n",
      "5 examples of class 5\n"
     ]
    }
   ],
   "source": [
    "for i in np.unique(y):\n",
    "    print(f'{len(y[y==i])} examples of class {i}')"
   ]
  },
  {
   "cell_type": "markdown",
   "metadata": {
    "id": "o_ecYJ4xFV_Y"
   },
   "source": [
    "#### 9) Classification: Is your dataset balanced or imbalanced?\n",
    "\n",
    "\n",
    "Regression: How are your labels distributed? Normal distrbution? Uniform within a range? etc."
   ]
  },
  {
   "cell_type": "markdown",
   "metadata": {
    "id": "Gin5wkqFFV_Y"
   },
   "source": [
    "<font color='blue'>\n",
    "    TODO: Since we are doing a classification problem, we skip this step. \n",
    "</font>"
   ]
  },
  {
   "cell_type": "markdown",
   "metadata": {
    "id": "NeSyM-x6FV_Z"
   },
   "source": [
    "Let's compute some statistics for the dataset."
   ]
  },
  {
   "cell_type": "code",
   "execution_count": 20,
   "metadata": {
    "id": "0B5593CnFV_a"
   },
   "outputs": [
    {
     "name": "stdout",
     "output_type": "stream",
     "text": [
      "Number of examples: 2000\n",
      "Number of features per example: 4\n"
     ]
    }
   ],
   "source": [
    "#######################################################\n",
    "print(f'Number of examples: {X.shape[0]}')\n",
    "print(f'Number of features per example: {X.shape[1]}')\n",
    "# there are many more that are relevant to the specific domain your data is in.\n",
    "# TODO: if applicable, please include any additional dataset statistics here\n",
    "#######################################################"
   ]
  },
  {
   "cell_type": "markdown",
   "metadata": {
    "id": "NXUdUevoORfr"
   },
   "source": [
    "#### 10) Do you have lots of high quality data? Explain limitations (if any) that exist in terms of data quantity and quality."
   ]
  },
  {
   "cell_type": "markdown",
   "metadata": {
    "id": "WmQGjl9JOiOk"
   },
   "source": [
    "<font color='blue'>\n",
    "    Yes. In general, I believe it is in high quality. <br />In total, the raw data has 1 million sample points, which is from the Open Data Portal provided by Maryland State Police. So I believe these data are authentical. This data also have a wide time range, which is from Jan 2015 to Sep 2021, which is good in generalization aspect. <br />Some limitations of these data: it is statewide vehicle crashes from Maryland. Therefore, the results are only applicable within Maryland state; some columns in the raw data are very sparse, which might influence its quality. \n",
    "</font>"
   ]
  },
  {
   "cell_type": "markdown",
   "metadata": {
    "id": "ZGdroDhAUoiU"
   },
   "source": [
    "Data visualizations help us understand our data and draw insights. Just like there is no single ML algorithm that applies to every problem, there isn't a visualization that works for every dataset.\n",
    "<br /> <br />\n",
    "Instead, you will produce some visuals that you think tell an interesting story about your data. We will provide some suggestions, which you can use for inspiration. \n",
    "<br /> <br />\n",
    "\n",
    "Types of information you may wish to capture (this is by no means comprehensive):\n",
    "*   Missingness of data (consider using heat maps, scatter plots)\n",
    "*   Correlation of features (consider using a correlation matrix)\n",
    "*   Distribution of data (consider using historgrams, violin plots)\n",
    "*   Linear separability, if you have binary classification\n",
    "<br /> <br />\n",
    "\n",
    "Check out these visualization galleries for further inspiration and example code:\n",
    "*   [Seaborn](https://seaborn.pydata.org/examples/index.html)\n",
    "*   [Plotly](https://plotly.com/python/)\n",
    "*   [Python Graph Gallery](https://python-graph-gallery.com/)\n",
    "\n",
    "You should create **at least 1 visualization** for your dataset and explain what you learned about your data from it. Below is an example heatmap showing correlation of features from the sklearn iris dataset."
   ]
  },
  {
   "cell_type": "code",
   "execution_count": 21,
   "metadata": {
    "colab": {
     "base_uri": "https://localhost:8080/",
     "height": 347
    },
    "id": "OR77uBw_gI72",
    "outputId": "c3c2e48b-156c-408a-c320-9ed9e6730585"
   },
   "outputs": [
    {
     "data": {
      "image/png": "[encoded data removed]",
      "text/plain": [
       "<Figure size 432x288 with 2 Axes>"
      ]
     },
     "metadata": {
      "needs_background": "light"
     },
     "output_type": "display_data"
    }
   ],
   "source": [
    "from sklearn import datasets\n",
    "import numpy as np\n",
    "import seaborn as sns\n",
    "import matplotlib.pyplot as plt\n",
    "import pandas as pd\n",
    "\n",
    "iris = datasets.load_iris()\n",
    "df = pd.DataFrame(data= np.c_[iris['data'], iris['target']],\n",
    "                     columns= iris['feature_names'] + ['target'])\n",
    "sns.heatmap(df.corr(), \n",
    "            xticklabels=df.corr().columns.values,\n",
    "            yticklabels=df.corr().columns.values)\n",
    "plt.show()"
   ]
  },
  {
   "cell_type": "code",
   "execution_count": 22,
   "metadata": {
    "id": "LSbCeDaDFV_h"
   },
   "outputs": [
    {
     "data": {
      "image/png": "[encoded data removed]",
      "text/plain": [
       "<Figure size 432x288 with 2 Axes>"
      ]
     },
     "metadata": {
      "needs_background": "light"
     },
     "output_type": "display_data"
    }
   ],
   "source": [
    "#######################################################\n",
    "# TODO: Visualize the dataset\n",
    "from sklearn import datasets\n",
    "import numpy as np\n",
    "import seaborn as sns\n",
    "import matplotlib.pyplot as plt\n",
    "import pandas as pd\n",
    "\n",
    "feature_names = [i for i in columns]\n",
    "label_name = ['INJ_SEVER_CODE']\n",
    "df = pd.DataFrame(data= np.c_[X, y],\n",
    "                     columns= feature_names + label_name)\n",
    "sns.heatmap(df.corr(), \n",
    "            xticklabels=df.corr().columns.values,\n",
    "            yticklabels=df.corr().columns.values)\n",
    "plt.show()\n",
    "#######################################################"
   ]
  },
  {
   "cell_type": "markdown",
   "metadata": {
    "id": "gb2f_TdIFV_j"
   },
   "source": [
    "#### 11) What insights do you gain from this visualization about your dataset?"
   ]
  },
  {
   "cell_type": "markdown",
   "metadata": {
    "id": "ma30TfvrFV_k"
   },
   "source": [
    "<font color='blue'>\n",
    "    From the visualization above, we can see that all features are not highly correlated to each other, which is good for our future training. It suggests that safety equipment is the least relevant feature to injury severeness while collision type is the most relevant one. However, all the Covariance($\\text{ feature}_i$, $y$) are very small, which might cause some problems later in our training and explaining process.\n",
    "</font>"
   ]
  },
  {
   "cell_type": "markdown",
   "metadata": {
    "id": "ByuJGGbJFV_k"
   },
   "source": [
    "## Part 3: Using your dataset\n",
    "\n",
    "Things to do in this part:\n",
    "1. Answer questions 12-13\n",
    "2. Perform a train-test split\n",
    "3. Train simple supervised learning algorithm on dataset"
   ]
  },
  {
   "cell_type": "markdown",
   "metadata": {
    "id": "abr91MAtFV_k"
   },
   "source": [
    "Now that you have created your dataset and explored some of its properties, you will use a supervised classifier to predict the outcome you definined in the problem statement. To evaluate how well this classifier predicts the outcomes, you will need to set some data aside for testing. First, you'll use sklearn to split the data into train and test sets, with 25% of the data reserved for testing."
   ]
  },
  {
   "cell_type": "code",
   "execution_count": 23,
   "metadata": {
    "id": "pvsUJRE7FV_l"
   },
   "outputs": [
    {
     "name": "stdout",
     "output_type": "stream",
     "text": [
      "Training examples: 1500\n",
      "Testing examples{500}\n"
     ]
    }
   ],
   "source": [
    "from sklearn.model_selection import train_test_split \n",
    "\n",
    "# Train Test Split\n",
    "X_train, X_test, y_train, y_test = train_test_split(X, y, test_size=0.25, random_state=0)\n",
    "print(f'Training examples: {X_train.shape[0]}\\nTesting examples{ {X_test.shape[0]}}')"
   ]
  },
  {
   "cell_type": "markdown",
   "metadata": {
    "id": "0CAu1ruKa-9C"
   },
   "source": [
    "Now, we'll save your train and test sets. Together, these four files will make up the dataset you submit on Gradescope. "
   ]
  },
  {
   "cell_type": "code",
   "execution_count": 24,
   "metadata": {
    "id": "QANcYHlobNNb"
   },
   "outputs": [
    {
     "name": "stdout",
     "output_type": "stream",
     "text": [
      "updating: X_train.csv (deflated 97%)\r\n",
      "updating: X_test.csv (deflated 97%)\r\n",
      "updating: y_train.csv (deflated 98%)\r\n",
      "updating: y_test.csv (deflated 98%)\r\n"
     ]
    }
   ],
   "source": [
    "import numpy as np \n",
    "\n",
    "np.savetxt(\"X_train.csv\", X_train, delimiter=\",\")\n",
    "np.savetxt(\"X_test.csv\", X_test, delimiter=\",\")\n",
    "np.savetxt(\"y_train.csv\", y_train, delimiter=\",\")\n",
    "np.savetxt(\"y_test.csv\", y_test, delimiter=\",\")\n",
    "\n",
    "# zip together all components of your dataset\n",
    "!zip homework1_dataset.zip X_train.csv X_test.csv y_train.csv y_test.csv"
   ]
  },
  {
   "cell_type": "markdown",
   "metadata": {
    "id": "cS9ISdLyFV_o"
   },
   "source": [
    "Now, let's train some classifiers or regression models. You are encouraged to try out multiple different algorithms, but only one is required. You are also encouraged to use popular packages such as [sklearn](https://scikit-learn.org/stable/modules/classes.html#module-sklearn.linear_model); you are not expected to implement any of these algorithms yourself. We have included sklearn's Logistic Regression and Linear Regression algorithms below as examples.\n",
    "<br /><br />\n",
    "Consider trying the following algorithms:\n",
    "<br />\n",
    "Classification: SVM, Decision Tree, Random Forest\n",
    "<br />\n",
    "Regression: Lasso, ridge regression"
   ]
  },
  {
   "cell_type": "code",
   "execution_count": 25,
   "metadata": {
    "id": "uRlJ86C8FV_o"
   },
   "outputs": [
    {
     "name": "stdout",
     "output_type": "stream",
     "text": [
      "Model accuracy is 0.804\n",
      "Index(['WEATHER_CODE', 'AIRBAG_DEPLOYED', 'SAF_EQUIP_CODE',\n",
      "       'COLLISION_TYPE_CODE'],\n",
      "      dtype='object')\n",
      "[[ 0.04840997  0.0432272   0.03382206  0.00381103]\n",
      " [ 0.04642437  0.03318247  0.02487327  0.00636507]\n",
      " [ 0.0545232   0.03852909  0.01838827  0.00559694]\n",
      " [-0.20007425  0.06568584  0.01538907  0.01547785]\n",
      " [ 0.05071672 -0.1806246  -0.09247269 -0.0312509 ]]\n"
     ]
    }
   ],
   "source": [
    "# # If you have a classification problem, here is how to train a Logistic Regression classifier\n",
    "\n",
    "# from sklearn.linear_model import LogisticRegression\n",
    "\n",
    "# clf = LogisticRegression(random_state=0).fit(X_train, y_train)\n",
    "# y_hat = clf.predict(X_test)\n",
    "# accuracy = clf.score(X_test, y_test)\n",
    "# print(f'model accuracy is {accuracy}')\n",
    "\n",
    "# # If you have a regression problem, here is how to train a Linear Regression classifier\n",
    "\n",
    "# from sklearn.linear_model import LinearRegression\n",
    "\n",
    "# reg = LinearRegression().fit(X_train, y_train)\n",
    "# y_hat = reg.predict(X_test)\n",
    "# r_squared = reg.score(X_test, y_test)\n",
    "# print(f'Goodness of fit given by coefficient of determination is {r_squared}')\n",
    "\n",
    "#######################################################\n",
    "# TODO: Train at least one simple supervised learning algorithm on your dataset\n",
    "from sklearn.linear_model import LogisticRegression\n",
    "\n",
    "clf = LogisticRegression(multi_class='multinomial', solver='lbfgs',max_iter=2000, random_state=0).fit(X_train, y_train.ravel())\n",
    "y_hat = clf.predict(X_test)\n",
    "accuracy = clf.score(X_test, y_test.ravel())\n",
    "print(f'Model accuracy is {accuracy}')\n",
    "print(columns)\n",
    "print(clf.coef_)\n",
    "#######################################################"
   ]
  },
  {
   "cell_type": "markdown",
   "metadata": {
    "id": "geo8Kz4tOtLy"
   },
   "source": [
    "#### 12) How can you meaningfully evaluate results?  How was the performance of your model: did it meee?\n",
    "*Note:* if you trained more than one model above, you only need to answer this question for one of them."
   ]
  },
  {
   "cell_type": "markdown",
   "metadata": {
    "id": "b3nzN7MtOz45"
   },
   "source": [
    "<font color='blue'>\n",
    "    From the scores of the train and coefficient of the features in the decision function, we could tell that in fatal accident(class 5), weather condition plays an very important role, while other features seems not very helpful, since they are negative. <br/>In minor injury(class 2-3: non-incapacitating injury and possible incapacitating injury), weather condition, airbag and safety equipment have relatively same weights. <br/>In class 4, which represents incapacitating/disable injury, safety equipment such as seat belt and airbag plays an very important role in protecting ourselves from getting injured. <br/>In conclusion, while under inevitable condition such as bad weather, seat belt and airbag cannot prevent us from fatal dangerous, in most incapacitating/disable injury, seat belt and air bag play significant roles in protecting our safety. \n",
    "</font>"
   ]
  },
  {
   "cell_type": "markdown",
   "metadata": {
    "id": "fPIbEyVOPWsy"
   },
   "source": [
    "#### 13) In creating your dataset, what discussions did you have about the ethical implications of what you were collecting? Are there any potential issues with fairness?"
   ]
  },
  {
   "cell_type": "markdown",
   "metadata": {
    "id": "Gc-5zTUHPyyg"
   },
   "source": [
    "<font color='blue'>\n",
    "    I don't see any obvious or major ethical problems in my dataset. <br/>However, in the raw data, I do see a lot of confidential data such as county, sex and car types, which might cause bias in the society. For example, some people might use these data to arouse hateful comments towards certain group or area of people, or some people might use it to do advertisement about certain type/brand of car to gain profits. \n",
    "</font>"
   ]
  },
  {
   "cell_type": "markdown",
   "metadata": {},
   "source": []
  },
  {
   "cell_type": "markdown",
   "metadata": {
    "id": "ll5FhwgKx4K6"
   },
   "source": [
    "## Submit\n",
    "Great work! You're all done.\n",
    "\n",
    "Make sure to submit this Python notebook (as a PDF) and the dataset you created as a zip file. See the homework writeup for directions."
   ]
  }
 ],
 "metadata": {
  "colab": {
   "collapsed_sections": [],
   "name": "CS475_homework1_lab_sp22.ipynb",
   "provenance": []
  },
  "kernelspec": {
   "display_name": "Python 3 (ipykernel)",
   "language": "python",
   "name": "python3"
  },
  "language_info": {
   "codemirror_mode": {
    "name": "ipython",
    "version": 3
   },
   "file_extension": ".py",
   "mimetype": "text/x-python",
   "name": "python",
   "nbconvert_exporter": "python",
   "pygments_lexer": "ipython3",
   "version": "3.8.12"
  }
 },
 "nbformat": 4,
 "nbformat_minor": 1
}
